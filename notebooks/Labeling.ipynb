{
 "cells": [
  {
   "cell_type": "markdown",
   "metadata": {},
   "source": [
    "# Labeling of Incidents"
   ]
  },
  {
   "cell_type": "markdown",
   "metadata": {},
   "source": [
    "## Configuration file"
   ]
  },
  {
   "cell_type": "code",
   "execution_count": 1,
   "metadata": {},
   "outputs": [],
   "source": [
    "configuration = 'predicting.yaml'"
   ]
  },
  {
   "cell_type": "code",
   "execution_count": 2,
   "metadata": {},
   "outputs": [],
   "source": [
    "import os, sys\n",
    "src_dir = os.environ['BASKERVILLE_ROOT'] + '/src'\n",
    "if not os.path.lexists(src_dir):\n",
    "    raise RuntimeError('Baskerville source dir does not exist!')\n",
    "module_path = os.path.abspath(os.path.join(src_dir))\n",
    "if module_path not in sys.path:\n",
    "    sys.path.append(module_path)"
   ]
  },
  {
   "cell_type": "markdown",
   "metadata": {},
   "source": [
    "## Attack parameters"
   ]
  },
  {
   "cell_type": "code",
   "execution_count": 3,
   "metadata": {},
   "outputs": [
    {
     "name": "stderr",
     "output_type": "stream",
     "text": [
      "/usr/local/lib/python3.6/site-packages/sqlalchemy/sql/functions.py:67: SAWarning: The GenericFunction 'array_agg' is already registered and is going to be overridden.\n",
      "  \"is going to be overridden.\".format(identifier)\n",
      "/usr/local/lib/python3.6/site-packages/psycopg2/__init__.py:144: UserWarning: The psycopg2 wheel package will be renamed from release 2.8; in order to keep installing from binary please use \"pip install psycopg2-binary\" instead. For details see: <http://initd.org/psycopg/docs/install.html#binary-install-from-pypi>.\n",
      "  \"\"\")\n"
     ]
    }
   ],
   "source": [
    "import time\n",
    "import pandas as pd\n",
    "import numpy as np\n",
    "from sklearn.ensemble import GradientBoostingClassifier\n",
    "from sklearn.preprocessing import StandardScaler\n",
    "import matplotlib.pyplot as plt\n",
    "%matplotlib inline\n",
    "from baskerville.util.helpers import parse_config\n",
    "from baskerville.util.baskerville_tools import BaskervilleDBTools\n",
    "from baskerville.models.config import BaskervilleConfig\n",
    "from baskerville.db import set_up_db\n",
    "from baskerville.db.models import Attack, Attribute, RequestSet, Model  \n",
    "from baskerville.models.engine import BaskervilleAnalyticsEngine"
   ]
  },
  {
   "cell_type": "code",
   "execution_count": 4,
   "metadata": {},
   "outputs": [
    {
     "name": "stderr",
     "output_type": "stream",
     "text": [
      "2021-01-19 00:34:12,024 baskerville.models.config.validate +208: DEBUG    [25912] Validating BaskervilleConfig...\n",
      "2021-01-19 00:34:12,031 baskerville.models.config.validate +688: DEBUG    [25912] Validating DatabaseConfig...\n",
      "2021-01-19 00:34:12,036 baskerville.models.config.validate +307: DEBUG    [25912] Validating EngineConfig...\n",
      "2021-01-19 00:34:12,040 baskerville.models.config.validate +455: DEBUG    [25912] Validating SimulationConfig...\n",
      "2021-01-19 00:34:12,048 baskerville.models.config.validate +966: DEBUG    [25912] Validating DataParsingConfig...\n",
      "2021-01-19 00:34:12,438 baskerville.models.config.validate +938: DEBUG    [25912] Validating MetricsConfig...\n",
      "2021-01-19 00:34:12,442 baskerville.models.config.validate +490: DEBUG    [25912] Validating TrainingConfig...\n",
      "/root/baskerville/src/baskerville/models/config.py:340: UserWarning: Time bucket is NOT set to the default 120 seconds.\n",
      "  warnings.warn('Time bucket is NOT set to the default 120 seconds.')\n",
      "2021-01-19 00:34:12,450 baskerville.models.config.validate +216: DEBUG    [25912] No elasticsearch config\n",
      "2021-01-19 00:34:12,453 baskerville.models.config.validate +220: DEBUG    [25912] No misp config\n",
      "2021-01-19 00:34:12,457 baskerville.models.config.validate +745: DEBUG    [25912] Validating KafkaConfig...\n",
      "2021-01-19 00:34:12,460 baskerville.models.config.validate +813: DEBUG    [25912] Validating SparkConfig...\n"
     ]
    }
   ],
   "source": [
    "os.environ['TZ'] = 'UTC'\n",
    "time.tzset()\n",
    "conf_path = os.environ['BASKERVILLE_ROOT'] + f'/conf/{configuration}'\n",
    "config = parse_config(path=conf_path)\n",
    "config = BaskervilleConfig(config).validate()\n",
    "features = config.engine.extra_features\n",
    "\n",
    "config.database.maintenance = None\n",
    "db_tools = BaskervilleDBTools(config.database)\n",
    "db_tools.connect_to_db()"
   ]
  },
  {
   "cell_type": "markdown",
   "metadata": {},
   "source": [
    "## Attack parameters"
   ]
  },
  {
   "cell_type": "code",
   "execution_count": 1,
   "metadata": {},
   "outputs": [],
   "source": [
    "# target = '1'\n",
    "# table = 'request_sets_y2020_w14'\n",
    "# fileter_column = 'stop'\n",
    "# attack_start = '2020-04-03 09:49:00'\n",
    "# attack_stop = '2020-04-03 10:49:00'\n",
    "# regular_start = '2020-03-22 00:00:00'\n",
    "# regular_stop = '2020-04-03 09:00:00'\n",
    "\n",
    "# target = '2'\n",
    "# table = 'request_sets_y2020_w20'\n",
    "# fileter_column = 'stop'\n",
    "# attack_start = '2020-05-11 21:06:00'\n",
    "# attack_stop = '2020-05-11 21:18:00'\n",
    "# regular_start = '2020-05-11 00:00:00'\n",
    "# regular_stop = '2020-05-11 21:00:00'\n",
    "\n",
    "# target = '3'\n",
    "# table = 'request_sets_y2020_w21'\n",
    "# fileter_column = 'stop'\n",
    "# attack_start = '2020-05-20 22:20:00'\n",
    "# attack_stop = '2020-05-20 22:40:00'\n",
    "# regular_start = '2020-05-20 18:00:00'\n",
    "# regular_stop = '2020-05-20 22:00:00'\n",
    "\n",
    "# target = '4'\n",
    "# table = 'request_sets_y2020_w24'\n",
    "# fileter_column = 'stop'\n",
    "# attack_start = '2020-06-08 14:00:00'\n",
    "# attack_stop = '2020-06-08 14:08:00'\n",
    "# regular_start = '2020-06-05 18:00:00'\n",
    "# regular_stop = '2020-06-08 13:00:00'\n",
    "\n",
    "# target = '5'\n",
    "# table = 'request_sets_y2020_w24'\n",
    "# fileter_column = 'stop'\n",
    "# attack_start = '2020-06-12 11:56:00'\n",
    "# attack_stop = '2020-06-12 12:02:00'\n",
    "# regular_start = '2020-06-12 00:00:00'\n",
    "# regular_stop = '2020-06-12 11:52:00'\n",
    "\n",
    "# target = '6'\n",
    "# fileter_column = 'stop'\n",
    "# table = 'request_sets_y2020_w27'\n",
    "# attack_start = '2020-07-05 14:28:00Z'\n",
    "# attack_stop = '2020-07-05 14:46:00Z'\n",
    "# regular_start = '2020-07-04 14:46:00Z'\n",
    "# regular_stop = '2020-07-05 09:46:00Z'\n",
    "\n",
    "# target = '7'\n",
    "# table = 'request_sets'\n",
    "# fileter_column = 'created_at'\n",
    "# attack_start = '2020-07-09 08:34:00Z'\n",
    "# attack_stop = '2020-07-09 09:56:00Z'\n",
    "# regular_start = '2020-07-09 00:00:00Z'\n",
    "# regular_stop = '2020-07-09 08:00:00Z'\n",
    "\n",
    "# target = '8'\n",
    "# table = 'request_sets'\n",
    "# fileter_column = 'stop'\n",
    "# attack_start = '2020-07-31 00:00:00Z'\n",
    "# attack_stop = '2020-07-31 00:30:00Z'\n",
    "# regular_start = '2020-07-31 02:02:00Z'\n",
    "# regular_stop = '2020-07-31 10:00:00Z'\n",
    "\n",
    "# id 18 - classifier\n",
    "# id 19 - vladimir's list of ips\n",
    "# target = '9'\n",
    "# table = 'request_sets'\n",
    "# fileter_column = 'stop'\n",
    "# attack_start = '2020-09-17 17:47:00Z'\n",
    "# attack_stop = '2020-09-17 17:59:00Z'\n",
    "# regular_start = '2020-09-17 16:00:00Z'\n",
    "# regular_stop = '2020-09-17 17:00:00Z'\n",
    "\n",
    "# target = '10'\n",
    "# table = 'request_sets'\n",
    "# fileter_column = 'stop'\n",
    "# attack_start = '2020-10-05 19:46:00Z'\n",
    "# attack_stop = '2020-10-05 20:18:00Z'\n",
    "# regular_start = '2020-10-05 15:00:00Z'\n",
    "# regular_stop = '2020-10-05 19:00:00Z'\n",
    "\n",
    "# target = '11'\n",
    "# table = 'request_sets'\n",
    "# fileter_column = 'stop'\n",
    "# attack_start = '2020-10-14 10:20:00Z'\n",
    "# attack_stop = '2020-10-14 10:24:00Z'\n",
    "# regular_start = '2020-10-14 00:00:00Z'\n",
    "# regular_stop = '2020-10-14 09:00:00Z'\n",
    "\n",
    "# target = 'bunnyapps'  \n",
    "# table = 'request_sets'\n",
    "# fileter_column = 'stop'\n",
    "# attack_start = '2020-10-22 08:48:00Z'\n",
    "# attack_stop = '2020-10-22 09:02:00Z'\n",
    "# regular_start = '2020-10-01 00:00:00Z'\n",
    "# regular_stop = '2020-10-22 05:00:00Z'\n",
    "\n",
    "# target = '12'\n",
    "# table = 'request_sets'\n",
    "# fileter_column = 'stop'\n",
    "# attack_start = '2020-10-22 09:37:00Z'\n",
    "# attack_stop = '2020-10-22 09:41:00Z'\n",
    "# regular_start = '2020-10-01 00:00:00Z'\n",
    "# regular_stop = '2020-10-22 05:00:00Z'\n",
    "\n",
    "table = 'request_sets'\n",
    "fileter_column = 'stop'\n",
    "\n",
    "# target = '13'   24\n",
    "# attack_start = '2021-01-14 14:36:00Z'\n",
    "# attack_stop = '2021-01-14 15:36:00Z'\n",
    "# regular_start = '2021-01-14 10:00:00Z'\n",
    "# regular_stop = '2021-01-14 14:35:00Z'\n",
    "\n",
    "\n",
    "\n",
    "# target = '14'  not saved, not a clear attack\n",
    "# attack_start = '2021-01-14 16:30:00Z'\n",
    "# attack_stop = '2021-01-14 18:00:00Z'\n",
    "# regular_start = '2021-01-14 00:00:00Z'\n",
    "# regular_stop = '2021-01-14 16:25:00Z'\n",
    "\n",
    "# target = '15'  # id 25 'low and slow' manual list from Vladimir\n",
    "# attack_start = '2021-01-17 16:44:00Z'\n",
    "# attack_stop = '2021-01-17 18:00:00Z'\n",
    "# regular_start = '2021-01-17 00:00:00Z'\n",
    "# regular_stop = '2021-01-17 16:30:00Z'\n",
    "\n",
    "target = '16'  # id 26\n",
    "attack_start = '2021-01-26 08:35:00Z'\n",
    "attack_stop = '2021-01-26 08:47:00Z'\n",
    "regular_start = '2021-01-26 00:00:00Z'\n",
    "regular_stop = '2021-01-26 08:30:00Z'"
   ]
  },
  {
   "cell_type": "markdown",
   "metadata": {},
   "source": [
    "## Load Dataset"
   ]
  },
  {
   "cell_type": "code",
   "execution_count": 7,
   "metadata": {},
   "outputs": [],
   "source": [
    "def load_dataset(query, db_tools):\n",
    "    print('Querying database...')\n",
    "    df = pd.read_sql(query, db_tools.engine)\n",
    "    print(f'{len(df)} records retrieved.')\n",
    "    num_ips = len(df['ip'].unique())\n",
    "    print(f'{num_ips} unique IPs')\n",
    "    print(f'Unwrapping features...')\n",
    "    if len(df) > 0:\n",
    "        df[[*df['features'][0].keys()]] = df[\n",
    "            'features'\n",
    "        ].apply(pd.Series)\n",
    "        df.drop('features', axis=1, inplace=True)\n",
    "        df.drop('host', axis=1, inplace=True)\n",
    "        df.drop('country', axis=1, inplace=True)\n",
    "        df.drop('request_total', axis=1, inplace=True)\n",
    "        df.drop('minutes_total', axis=1, inplace=True)\n",
    "    print(f'Unwrapping features complete.')\n",
    "    df = df.fillna(0)\n",
    "    return df"
   ]
  },
  {
   "cell_type": "code",
   "execution_count": 8,
   "metadata": {},
   "outputs": [
    {
     "name": "stdout",
     "output_type": "stream",
     "text": [
      "Querying database...\n",
      "12136 records retrieved.\n",
      "3343 unique IPs\n",
      "Unwrapping features...\n",
      "Unwrapping features complete.\n"
     ]
    }
   ],
   "source": [
    "df_attack = load_dataset(f'select * from {table} where target=\\'{target}\\' and ' \\\n",
    "                                 f'{fileter_column} > \\'{attack_start}\\' and '\\\n",
    "                                 f'{fileter_column} < \\'{attack_stop}\\'', db_tools)"
   ]
  },
  {
   "cell_type": "code",
   "execution_count": 9,
   "metadata": {},
   "outputs": [
    {
     "name": "stdout",
     "output_type": "stream",
     "text": [
      "Querying database...\n",
      "22137 records retrieved.\n",
      "5790 unique IPs\n",
      "Unwrapping features...\n",
      "Unwrapping features complete.\n"
     ]
    }
   ],
   "source": [
    "df_regular = load_dataset(f'select * from {table} where target=\\'{target}\\' and ' \\\n",
    "                                 f'{fileter_column} > \\'{regular_start}\\' and '\\\n",
    "                                 f'{fileter_column} < \\'{regular_stop}\\'', db_tools)"
   ]
  },
  {
   "cell_type": "code",
   "execution_count": 10,
   "metadata": {},
   "outputs": [],
   "source": [
    "regular_ips = df_regular[['ip']].drop_duplicates()\n",
    "df_attack=df_attack.merge(regular_ips[['ip']], on=['ip'], how='outer', indicator=True)\n",
    "df_attack=df_attack[df_attack['_merge']=='left_only']"
   ]
  },
  {
   "cell_type": "code",
   "execution_count": 11,
   "metadata": {},
   "outputs": [
    {
     "data": {
      "text/plain": [
       "3127"
      ]
     },
     "execution_count": 11,
     "metadata": {},
     "output_type": "execute_result"
    }
   ],
   "source": [
    "len(df_attack['ip'].unique())"
   ]
  },
  {
   "cell_type": "code",
   "execution_count": 12,
   "metadata": {},
   "outputs": [
    {
     "data": {
      "text/plain": [
       "5790"
      ]
     },
     "execution_count": 12,
     "metadata": {},
     "output_type": "execute_result"
    }
   ],
   "source": [
    "len(df_regular['ip'].unique())"
   ]
  },
  {
   "cell_type": "markdown",
   "metadata": {},
   "source": [
    "## Classifier"
   ]
  },
  {
   "cell_type": "code",
   "execution_count": null,
   "metadata": {},
   "outputs": [],
   "source": []
  },
  {
   "cell_type": "code",
   "execution_count": 13,
   "metadata": {},
   "outputs": [],
   "source": [
    "if 'host' in features:\n",
    "    features.remove('host')\n",
    "if 'country' in features:\n",
    "    features.remove('country')\n",
    "if 'host_country' in features:\n",
    "    features.remove('host_country')\n",
    "if 'request_total' in features:\n",
    "    features.remove('request_total')\n",
    "if 'minutes_total' in features:\n",
    "    features.remove('minutes_total')\n",
    "\n",
    "labels = np.ones(len(df_regular), dtype=int)\n",
    "labels = np.append(labels, np.zeros(len(df_attack), dtype=int))\n",
    "dataset = pd.concat([df_regular[features], df_attack[features]])\n",
    "\n",
    "# scaler = StandardScaler()\n",
    "# dataset = scaler.fit_transform(dataset[features].values)\n",
    "\n",
    "model = GradientBoostingClassifier(\n",
    "    n_estimators=500, random_state=777, \n",
    "    max_depth=12,\n",
    "    max_features='auto',\n",
    "    learning_rate = 0.05)\n",
    "model.fit(dataset, labels)\n",
    "\n",
    "#df_attack_scaled = scaler.transform(df_attack[features])\n",
    "# predictions = model.predict(df_attack_scaled)\n",
    "\n",
    "predictions = model.predict(df_attack[features])"
   ]
  },
  {
   "cell_type": "code",
   "execution_count": 14,
   "metadata": {},
   "outputs": [
    {
     "name": "stdout",
     "output_type": "stream",
     "text": [
      "Number of unique IPs in the incident = 3127\n",
      "Number of predicted attackers = 3118\n",
      "Number of predicted regulars = 9\n",
      "Intersection predicted attackers in regular traffic = 0, 0.0%\n",
      "Intersection regular traffic in incident = 0\n",
      "Final number of attackers IP: 3118\n"
     ]
    }
   ],
   "source": [
    "incident = df_attack[['ip']].copy()\n",
    "incident['predictions'] = predictions\n",
    "attackers_predicted = incident[incident['predictions'] == 0][['ip']].drop_duplicates()\n",
    "regulars_predicted = incident[incident['predictions'] == 1][['ip']].drop_duplicates()\n",
    "\n",
    "incident_ips = incident[['ip']].drop_duplicates()\n",
    "regular_ips = df_regular[['ip']].drop_duplicates()\n",
    "\n",
    "attackers_vs_regular_traffic = pd.merge(regular_ips, attackers_predicted, how='inner', on=['ip'])\n",
    "regulars_vs_incident = pd.merge(regular_ips, incident_ips, how='inner', on=['ip'])\n",
    "\n",
    "print(f'Number of unique IPs in the incident = {len(incident_ips)}')\n",
    "print(f'Number of predicted attackers = {len(attackers_predicted)}')\n",
    "print(f'Number of predicted regulars = {len(incident_ips)-len(attackers_predicted)}')\n",
    "print(f'Intersection predicted attackers in regular traffic = {len(attackers_vs_regular_traffic)}, {len(attackers_vs_regular_traffic)/len(regular_ips)*100:2.1f}%')\n",
    "print(f'Intersection regular traffic in incident = {len(regulars_vs_incident)}')\n",
    "\n",
    "# filter out the IPs from regular traffic\n",
    "attackers = pd.merge(attackers_predicted, regulars_vs_incident, how='outer', on=['ip'], indicator=True)\n",
    "attackers = attackers[attackers['_merge'] == 'left_only'][['ip']]\n",
    "\n",
    "print(f'Final number of attackers IP: {len(attackers)}')"
   ]
  },
  {
   "cell_type": "markdown",
   "metadata": {},
   "source": [
    "## Save Attack to DB"
   ]
  },
  {
   "cell_type": "code",
   "execution_count": 15,
   "metadata": {},
   "outputs": [],
   "source": [
    "# attackers = df_attack[['ip']].drop_duplicates()"
   ]
  },
  {
   "cell_type": "code",
   "execution_count": 16,
   "metadata": {},
   "outputs": [],
   "source": [
    "attack = Attack()\n",
    "attack.start = attack_start\n",
    "attack.stop = attack_stop\n",
    "attack.target = target\n",
    "\n",
    "attributes = []\n",
    "for ip in attackers['ip']:\n",
    "    a = Attribute()\n",
    "    a.value = ip\n",
    "    a.attacks.append(attack)\n",
    "    attributes.append(a)\n",
    "\n",
    "db_tools.session.add(attack)\n",
    "db_tools.session.add_all(attributes)\n",
    "db_tools.session.commit()\n",
    "print(f'New attack saved in the database. id = {attack.id}')"
   ]
  },
  {
   "cell_type": "code",
   "execution_count": 17,
   "metadata": {},
   "outputs": [],
   "source": []
  },
  {
   "cell_type": "code",
   "execution_count": null,
   "metadata": {},
   "outputs": [],
   "source": []
  },
  {
   "cell_type": "code",
   "execution_count": 18,
   "metadata": {},
   "outputs": [
    {
     "name": "stdout",
     "output_type": "stream",
     "text": [
      "New attack saved in the database. id = 26\n"
     ]
    }
   ],
   "source": []
  },
  {
   "cell_type": "markdown",
   "metadata": {},
   "source": [
    "## Save Attack (hardcoded list of IPs)"
   ]
  },
  {
   "cell_type": "code",
   "execution_count": 2,
   "metadata": {},
   "outputs": [],
   "source": [
    "manual_ips = []"
   ]
  },
  {
   "cell_type": "code",
   "execution_count": 26,
   "metadata": {},
   "outputs": [],
   "source": [
    "attack = Attack()\n",
    "attack.start = attack_start\n",
    "attack.stop = attack_stop\n",
    "attack.target = target\n",
    "attributes = []\n",
    "for ip in manual_ips:\n",
    "    a = Attribute()\n",
    "    a.value = ip\n",
    "    a.attacks.append(attack)\n",
    "    attributes.append(a)\n",
    "db_tools.session.add(attack)\n",
    "db_tools.session.add_all(attributes)\n",
    "db_tools.session.commit()"
   ]
  },
  {
   "cell_type": "code",
   "execution_count": 27,
   "metadata": {},
   "outputs": [
    {
     "data": {
      "text/plain": [
       "25"
      ]
     },
     "execution_count": 27,
     "metadata": {},
     "output_type": "execute_result"
    }
   ],
   "source": [
    "attack.id"
   ]
  },
  {
   "cell_type": "code",
   "execution_count": 3,
   "metadata": {},
   "outputs": [],
   "source": [
    "banjax_ips = []"
   ]
  },
  {
   "cell_type": "code",
   "execution_count": 53,
   "metadata": {},
   "outputs": [
    {
     "data": {
      "text/plain": [
       "301"
      ]
     },
     "execution_count": 53,
     "metadata": {},
     "output_type": "execute_result"
    }
   ],
   "source": [
    "len(banjax_ips)"
   ]
  },
  {
   "cell_type": "code",
   "execution_count": 54,
   "metadata": {},
   "outputs": [],
   "source": [
    "attack_ips = attackers['ip'].values.tolist()"
   ]
  },
  {
   "cell_type": "code",
   "execution_count": 55,
   "metadata": {},
   "outputs": [
    {
     "data": {
      "text/plain": [
       "7584"
      ]
     },
     "execution_count": 55,
     "metadata": {},
     "output_type": "execute_result"
    }
   ],
   "source": [
    "len(attack_ips)"
   ]
  },
  {
   "cell_type": "code",
   "execution_count": 56,
   "metadata": {},
   "outputs": [
    {
     "data": {
      "text/plain": [
       "7584"
      ]
     },
     "execution_count": 56,
     "metadata": {},
     "output_type": "execute_result"
    }
   ],
   "source": [
    "len(banjax_ips and attack_ips)"
   ]
  },
  {
   "cell_type": "code",
   "execution_count": 59,
   "metadata": {},
   "outputs": [
    {
     "data": {
      "text/plain": [
       "296"
      ]
     },
     "execution_count": 59,
     "metadata": {},
     "output_type": "execute_result"
    }
   ],
   "source": [
    "len(list(set(banjax_ips) & set(attack_ips)))"
   ]
  },
  {
   "cell_type": "code",
   "execution_count": null,
   "metadata": {},
   "outputs": [],
   "source": []
  }
 ],
 "metadata": {
  "kernelspec": {
   "display_name": "Python 3",
   "language": "python",
   "name": "python3"
  },
  "language_info": {
   "codemirror_mode": {
    "name": "ipython",
    "version": 3
   },
   "file_extension": ".py",
   "mimetype": "text/x-python",
   "name": "python",
   "nbconvert_exporter": "python",
   "pygments_lexer": "ipython3",
   "version": "3.6.6"
  }
 },
 "nbformat": 4,
 "nbformat_minor": 2
}