{
 "cells": [
  {
   "cell_type": "markdown",
   "metadata": {},
   "source": [
    "# Model Evaluation"
   ]
  },
  {
   "cell_type": "markdown",
   "metadata": {},
   "source": [
    "## Configuration file"
   ]
  },
  {
   "cell_type": "code",
   "execution_count": 57,
   "metadata": {},
   "outputs": [],
   "source": [
    "configuration = 'training.yaml'\n",
    "num_hours_for_normal_traffic = 12"
   ]
  },
  {
   "cell_type": "code",
   "execution_count": 58,
   "metadata": {},
   "outputs": [
    {
     "name": "stdout",
     "output_type": "stream",
     "text": [
      "/home/spark/baskerville/src\n"
     ]
    }
   ],
   "source": [
    "import os, sys\n",
    "src_dir = os.environ['BASKERVILLE_ROOT'] + '/src'\n",
    "if not os.path.lexists(src_dir):\n",
    "    raise RuntimeError('Baskerville source dir does not exist!')\n",
    "module_path = os.path.abspath(os.path.join(src_dir))\n",
    "if module_path not in sys.path:\n",
    "    sys.path.append(module_path)\n",
    "print(src_dir)"
   ]
  },
  {
   "cell_type": "code",
   "execution_count": 59,
   "metadata": {},
   "outputs": [],
   "source": [
    "from pyspark import SparkConf\n",
    "import pyspark.sql.functions as F\n",
    "from pyspark.sql.types import StringType, StructField, StructType, DoubleType\n",
    "from pyspark.sql import SparkSession\n",
    "conf = SparkConf()\n",
    "# conf.set('spark.driver.host', 'localhost' )\n",
    "# conf.set('spark.master', 'local[10]')\n",
    "\n",
    "conf.set('spark.driver.host', 'localhost' )\n",
    "conf.set('spark.master', 'local[10]')\n",
    "# spark://$SPARK_MASTER_HOST:7077\n",
    "        \n",
    "conf.set(\"spark.hadoop.dfs.client.use.datanode.hostname\", True)\n",
    "conf.set('spark.jars', os.environ['BASKERVILLE_ROOT'] + '/data/jars/postgresql-42.2.4.jar')\n",
    "conf.set('spark.executor.memory', '40G')\n",
    "conf.set('spark.memory.offHeap.enabled', 'true')\n",
    "conf.set('spark.memory.offHeap.size', '35G')\n",
    "\n",
    "# conf.set('parallelism', -1)\n",
    "\n",
    "spark = SparkSession \\\n",
    "    .builder.config(conf=conf) \\\n",
    "    .appName(\"NotebookModelEvaluation\") \\\n",
    "    .getOrCreate()"
   ]
  },
  {
   "cell_type": "code",
   "execution_count": 60,
   "metadata": {},
   "outputs": [],
   "source": [
    "from baskerville.db.models import Attack, Attribute\n",
    "from baskerville.util.helpers import parse_config\n",
    "from baskerville.models.config import BaskervilleConfig\n",
    "from baskerville.util.baskerville_tools import BaskervilleDBTools\n",
    "from baskerville.models.anomaly_model import AnomalyModel\n",
    "import time\n",
    "from datetime import datetime, timedelta\n",
    "import itertools\n",
    "os.environ['TZ'] = 'UTC'\n",
    "time.tzset()\n",
    "conf_path = os.environ['BASKERVILLE_ROOT'] + f'/conf/{configuration}'\n",
    "config = parse_config(path=conf_path)\n",
    "config = BaskervilleConfig(config)\n",
    "# features = config.engine.extra_features\n",
    "\n",
    "# config.database.maintenance = None\n",
    "# db_tools = BaskervilleDBTools(config.database)\n",
    "# db_tools.connect_to_db()"
   ]
  },
  {
   "cell_type": "code",
   "execution_count": 61,
   "metadata": {},
   "outputs": [],
   "source": [
    "from pyspark.sql.types import *\n",
    "from pyspark.mllib.evaluation import BinaryClassificationMetrics\n",
    "from baskerville.db import get_jdbc_url\n",
    "\n",
    "def load_dataset(query, spark, db_config):\n",
    "    db_url = get_jdbc_url(db_config)\n",
    "    conn_properties = {\n",
    "        'user': db_config.user,\n",
    "        'password': db_config.password,\n",
    "        'driver': 'org.postgresql.Driver',\n",
    "    }\n",
    "    df = spark.read.jdbc(\n",
    "            url=db_url,\n",
    "            table=query,\n",
    "            properties=conn_properties\n",
    "        )\n",
    "#     df = df.limit(100)\n",
    "    json_schema = spark.read.json(df.limit(1).rdd.map(lambda row: row.features)).schema\n",
    "#     json_schema.add(StructField(\n",
    "#         name='host_country',\n",
    "#         dataType=StringType(),\n",
    "#         nullable=True))\n",
    "    df = df.withColumn('features1', F.from_json('features', json_schema))\n",
    "    df = df.withColumn('features', F.create_map(\n",
    "        *list(itertools.chain(*[(F.lit(f), F.col('features1').getItem(f)) for f in json_schema.__dict__['names']])\n",
    "             ))).drop('features1')\n",
    "    \n",
    "#     df = df.withColumn('features.host_country', F.concat(F.col(\"features.host\"), F.lit(\"_\"), F.col(\"features.country\")))\n",
    "\n",
    "    return df\n",
    "\n",
    "def evaluate_model(models, spark, db_config):\n",
    "    config.database.maintenance = None\n",
    "    db_tools = BaskervilleDBTools(db_config)\n",
    "    db_tools.connect_to_db()\n",
    "\n",
    "    attacks = db_tools.session.query(Attack).all()\n",
    "    result = []\n",
    "    for attack in attacks:\n",
    "        if attack.id < 21:\n",
    "            continue\n",
    "            \n",
    "        print(f'Processing attack {attack.id}: start={attack.start}, stop={attack.stop}')\n",
    "        \n",
    "        if attack.id == 9: # manually filtered by Vladimir\n",
    "            attack_ips = []  # todo: load from csv\n",
    "        else:\n",
    "            attack_ips = [a.value for a in attack.attributes]\n",
    "\n",
    "        attack_ips = spark.createDataFrame(data=[[a] for a in attack_ips], \n",
    "                                    schema=StructType([StructField(\"ip_attacker\", StringType())]))\n",
    "    \n",
    "        \n",
    "        print('Querying database...')\n",
    "#         query = f'(select ip, target, created_at, features, stop from request_sets where '\\\n",
    "#             f'target=\\'{attack.target}\\' and '\\\n",
    "#             f'stop > \\'{attack.start-timedelta(hours=num_hours_for_normal_traffic)}\\' and stop < \\'{attack.stop}\\') as attack1'\n",
    "\n",
    "#         query = f'(select ip, target, created_at, features, stop from request_sets where '\\\n",
    "#             f'stop > \\'2020-07-31 00:00:00Z\\' and stop < \\'2020-07-31 00:30:00Z\\') as attack1 '\n",
    "\n",
    "    \n",
    "        query = f'(select ip, target, created_at, features, stop from request_sets where '\\\n",
    "            f'stop > \\'{attack.start.strftime(\"%Y-%m-%d %H:%M:%S\")}Z\\' and stop < \\'{attack.stop.strftime(\"%Y-%m-%d %H:%M:%S\")}Z\\') as attack1 '\n",
    "\n",
    "            \n",
    "#         query = f'(select ip, target, created_at, features, stop from request_sets where '\\\n",
    "#             f'stop > \\'{attack.start}\\' and stop < \\'{attack.stop}\\') as attack1 '\n",
    "\n",
    "\n",
    "\n",
    "        rs = load_dataset(query, spark, db_config)\n",
    "        num_records = rs.count()\n",
    "        print(f'Loaded {num_records} records')\n",
    "        if num_records == 0:\n",
    "            print(f'Skipping attack {attack.id}, no records found.')\n",
    "            continue\n",
    "        print('Joining the labels...')\n",
    "        rs = rs.join(attack_ips, rs.ip == attack_ips.ip_attacker, how='left')\n",
    "        rs = rs.withColumn('label', F.when(F.col('ip_attacker').isNull(), 0.0).otherwise(1.0))\n",
    "        \n",
    "        aucs = []\n",
    "        for model in models:\n",
    "            print('Predicting...')\n",
    "            rs1 = model.predict(rs)\n",
    "            print('Calculating metrics...')\n",
    "            metrics = BinaryClassificationMetrics(rs1.select(['score', 'label']).rdd)\n",
    "            auc = metrics.areaUnderPR\n",
    "            print(f'Area under PR curve = {auc}')\n",
    "            aucs.append(auc)\n",
    "        result.append((attack, aucs))\n",
    "        \n",
    "    db_tools.disconnect_from_db()\n",
    "    \n",
    "    return result"
   ]
  },
  {
   "cell_type": "code",
   "execution_count": 62,
   "metadata": {},
   "outputs": [],
   "source": [
    "model_0 = AnomalyModel()\n",
    "model_0.load('hdfs://hadoop-01:8020/prod/models/AnomalyModel__2020_10_08___14_22', \n",
    "             spark) # host balance 5K, no totals, no host_counry - \n",
    "\n",
    "# model_0.load('hdfs://hadoop-01:8020/prod/models/AnomalyModel__2020_08_14___20_23', \n",
    "#              spark) # host balance 5K, no totals, no counry - 0.9789\n",
    "\n",
    "# model_0.load('hdfs://hadoop-01:8020/prod/models/AnomalyModel__2020_09_18___16_39', \n",
    "#              spark) # host balance 5K, no totals, with host_counry - 0.9793\n",
    "\n",
    "# model_0.load('hdfs://hadoop-01:8020/prod/models/AnomalyModel__2020_09_17___17_20', \n",
    "#              spark) # host balance 5K, no totals, with counry - 0.9786\n",
    "\n",
    "# model_0.load('hdfs://hadoop-01:8020/prod/models/AnomalyModel__2020_08_14___20_23', \n",
    "#              spark) # host balance 5K, no totals, no counry - 0.9789\n",
    "\n",
    "\n",
    "# model_0.load('hdfs://hadoop-01:8020/prod/models/AnomalyModel__2020_07_10___18_33', spark) # baseline - 0.905\n",
    "# model_0.load('hdfs://hadoop-01:8020/prod/models#/AnomalyModel__2020_07_10___19_19', spark) # host balance 10K - 0.908\n"
   ]
  },
  {
   "cell_type": "code",
   "execution_count": 63,
   "metadata": {},
   "outputs": [],
   "source": [
    "model_1 = AnomalyModel()\n",
    "model_1.load('hdfs://hadoop-01:8020/prod/models/AnomalyModel__2020_10_08___15_32', \n",
    "             spark) # host balance 5K, no totals, with host_counry - \n",
    "\n",
    "# model_1.load('hdfs://hadoop-01:8020/prod/models/AnomalyModel__2020_09_18___16_39', \n",
    "#              spark) # host balance 5K, no totals, with host_counry - 0.9793\n",
    "\n",
    "# model_1.load('hdfs://hadoop-01:8020/prod/models/AnomalyModel__2020_07_10___18_52', spark) # host balance 30K - 0.907\n",
    "# model_1.load('hdfs://hadoop-01:8020/prod/models/AnomalyModel__2020_07_10___19_03', spark) # host no balance\n",
    "# model_1.load('hdfs://hadoop-01:8020/prod/models/', spark) # host and country\n",
    "# model_1.load('hdfs://hadoop-01:8020/prod/models/AnomalyModel__2020_07_10___19_19', spark) # host balance 10K\n",
    "# model_1.load('hdfs://hadoop-01:8020/prod/models/AnomalyModel__2020_07_10___19_35', spark) # host balance 5K - 0.912\n",
    "\n"
   ]
  },
  {
   "cell_type": "code",
   "execution_count": 2,
   "metadata": {
    "scrolled": true
   },
   "outputs": [
    {
     "ename": "NameError",
     "evalue": "name 'evaluate_model' is not defined",
     "output_type": "error",
     "traceback": [
      "\u001B[0;31m---------------------------------------------------------------------------\u001B[0m",
      "\u001B[0;31mNameError\u001B[0m                                 Traceback (most recent call last)",
      "\u001B[0;32m<ipython-input-2-46ee7f93bc02>\u001B[0m in \u001B[0;36m<module>\u001B[0;34m\u001B[0m\n\u001B[0;32m----> 1\u001B[0;31m \u001B[0mmetrics\u001B[0m \u001B[0;34m=\u001B[0m \u001B[0mevaluate_model\u001B[0m\u001B[0;34m(\u001B[0m\u001B[0;34m[\u001B[0m\u001B[0mmodel_0\u001B[0m\u001B[0;34m,\u001B[0m \u001B[0mmodel_1\u001B[0m\u001B[0;34m]\u001B[0m\u001B[0;34m,\u001B[0m \u001B[0mspark\u001B[0m\u001B[0;34m,\u001B[0m \u001B[0mconfig\u001B[0m\u001B[0;34m.\u001B[0m\u001B[0mdatabase\u001B[0m\u001B[0;34m)\u001B[0m\u001B[0;34m\u001B[0m\u001B[0m\n\u001B[0m\u001B[1;32m      2\u001B[0m \u001B[0;34m\u001B[0m\u001B[0m\n",
      "\u001B[0;31mNameError\u001B[0m: name 'evaluate_model' is not defined"
     ]
    }
   ],
   "source": [
    "metrics = evaluate_model([model_0, model_1], spark, config.database)"
   ]
  },
  {
   "cell_type": "code",
   "execution_count": null,
   "metadata": {},
   "outputs": [],
   "source": []
  },
  {
   "cell_type": "code",
   "execution_count": 9,
   "metadata": {},
   "outputs": [
    {
     "ename": "SyntaxError",
     "evalue": "invalid syntax (<ipython-input-9-1e4c4a61c708>, line 1)",
     "output_type": "error",
     "traceback": [
      "\u001B[0;36m  File \u001B[0;32m\"<ipython-input-9-1e4c4a61c708>\"\u001B[0;36m, line \u001B[0;32m1\u001B[0m\n\u001B[0;31m    30K vs 10K\u001B[0m\n\u001B[0m      ^\u001B[0m\n\u001B[0;31mSyntaxError\u001B[0m\u001B[0;31m:\u001B[0m invalid syntax\n"
     ]
    }
   ],
   "source": [
    "30K vs 10K\n",
    "Processing attack 9: target=test_target1, start=2020-07-05 14:28:00+00:00, stop=2020-07-05 14:46:00+00:00\n",
    "Querying database...\n",
    "Joining the labels...\n",
    "Predicting...\n",
    "Calculating metrics...\n",
    "Area under PR curve = 0.7426313311752667\n",
    "Predicting...\n",
    "Calculating metrics...\n",
    "Area under PR curve = 0.7464435760046548\n",
    "Processing attack 10: target=test_target2, start=2020-07-09 08:34:00+00:00, stop=2020-07-09 09:56:00+00:00\n",
    "Querying database...\n",
    "Joining the labels...\n",
    "Predicting...\n",
    "Calculating metrics...\n",
    "Area under PR curve = 0.5565857543950203\n",
    "Predicting...\n",
    "Calculating metrics...\n",
    "Area under PR curve = 0.5772456757943066"
   ]
  },
  {
   "cell_type": "code",
   "execution_count": 22,
   "metadata": {},
   "outputs": [
    {
     "data": {
      "text/plain": [
       "[0.43709868383764366,\n",
       " 0.41462596125307394,\n",
       " 0.6637837954274215,\n",
       " 0.5554267897458155,\n",
       " 0.9751537166473505,\n",
       " 0.6009327437470678,\n",
       " 0.6946824777025093]"
      ]
     },
     "execution_count": 22,
     "metadata": {},
     "output_type": "execute_result"
    }
   ],
   "source": [
    "aucs1"
   ]
  },
  {
   "cell_type": "code",
   "execution_count": 36,
   "metadata": {},
   "outputs": [],
   "source": [
    "labels = ['baseline', 'host_country']\n",
    "x_labels = [f'{a.id}' for a, _ in metrics]\n",
    "aucs1 = [v for _, (v, _) in metrics]\n",
    "aucs2 = [v for _, (_, v) in metrics]\n"
   ]
  },
  {
   "cell_type": "code",
   "execution_count": 44,
   "metadata": {},
   "outputs": [
    {
     "data": {
      "image/png": "[encoded data removed]",
      "text/plain": [
       "<Figure size 1080x360 with 1 Axes>"
      ]
     },
     "metadata": {
      "needs_background": "light"
     },
     "output_type": "display_data"
    }
   ],
   "source": [
    "import matplotlib\n",
    "import matplotlib.pyplot as plt\n",
    "import numpy as np\n",
    "%matplotlib inline\n",
    "\n",
    "x = np.arange(len(x_labels))  # the label locations\n",
    "width = 0.35  # the width of the bars\n",
    "\n",
    "fig, ax = plt.subplots(figsize=(15,5))\n",
    "rects1 = ax.bar(x - width/2, aucs1, width, label=labels[0])\n",
    "rects2 = ax.bar(x + width/2, aucs2, width, label=labels[1])\n",
    "\n",
    "# Add some text for labels, title and custom x-axis tick labels, etc.\n",
    "ax.set_ylabel('AUC Precision/Recall')\n",
    "ax.set_xlabel('attacks')\n",
    "ax.set_title('Model perfomance')\n",
    "ax.set_xticks(x)\n",
    "ax.set_xticklabels(x_labels)\n",
    "ax.legend()\n",
    "\n",
    "def autolabel(rects):\n",
    "    \"\"\"Attach a text label above each bar in *rects*, displaying its height.\"\"\"\n",
    "    for rect in rects:\n",
    "        height = rect.get_height()\n",
    "        ax.annotate('{:.3f}'.format(height),\n",
    "                    xy=(rect.get_x() + rect.get_width() / 2, height),\n",
    "                    xytext=(0, 0),  # 3 points vertical offset\n",
    "                    textcoords=\"offset points\",\n",
    "                    ha='center', va='bottom')\n",
    "\n",
    "autolabel(rects1)\n",
    "autolabel(rects2)\n",
    "fig.tight_layout()\n",
    "plt.show()"
   ]
  },
  {
   "cell_type": "code",
   "execution_count": null,
   "metadata": {},
   "outputs": [],
   "source": []
  },
  {
   "cell_type": "markdown",
   "metadata": {},
   "source": [
    "# Attack 2020-07-05 14:28:00Z - 2020-07-05 14:46:00Z"
   ]
  },
  {
   "cell_type": "code",
   "execution_count": 24,
   "metadata": {},
   "outputs": [],
   "source": [
    "target = 'test_target'\n",
    "table = 'request_sets_y2020_w27'\n",
    "attack_start = '2020-07-05 14:28:00Z'\n",
    "attack_stop = '2020-07-05 14:46:00Z'\n",
    "regular_start = '2020-07-04 14:46:00Z'\n",
    "regular_stop = '2020-07-05 09:46:00Z'"
   ]
  },
  {
   "cell_type": "code",
   "execution_count": 28,
   "metadata": {},
   "outputs": [],
   "source": [
    "query = f'(select ip, target, created_at, features, stop, score from request_sets_y2020_w27 where '\\\n",
    "    f'stop > \\'{attack_start}\\' and stop < \\'{attack_stop}\\') as attack1'\n",
    "df = load_dataset(query, spark, config.database)"
   ]
  },
  {
   "cell_type": "code",
   "execution_count": null,
   "metadata": {},
   "outputs": [],
   "source": [
    "df = df.toPandas()"
   ]
  },
  {
   "cell_type": "code",
   "execution_count": 34,
   "metadata": {},
   "outputs": [
    {
     "data": {
      "text/plain": [
       "69226"
      ]
     },
     "execution_count": 34,
     "metadata": {},
     "output_type": "execute_result"
    }
   ],
   "source": [
    "len(df)"
   ]
  },
  {
   "cell_type": "code",
   "execution_count": 71,
   "metadata": {},
   "outputs": [],
   "source": [
    "attackers = df[df['score'] > 0.45]"
   ]
  },
  {
   "cell_type": "code",
   "execution_count": 72,
   "metadata": {},
   "outputs": [
    {
     "data": {
      "text/plain": [
       "10353"
      ]
     },
     "execution_count": 72,
     "metadata": {},
     "output_type": "execute_result"
    }
   ],
   "source": [
    "len(attackers)"
   ]
  },
  {
   "cell_type": "code",
   "execution_count": 73,
   "metadata": {},
   "outputs": [],
   "source": [
    "attack_ips = attackers['ip'].unique()"
   ]
  },
  {
   "cell_type": "code",
   "execution_count": 1,
   "metadata": {},
   "outputs": [
    {
     "ename": "NameError",
     "evalue": "name 'attack_ips' is not defined",
     "output_type": "error",
     "traceback": [
      "\u001B[0;31m---------------------------------------------------------------------------\u001B[0m",
      "\u001B[0;31mNameError\u001B[0m                                 Traceback (most recent call last)",
      "\u001B[0;32m<ipython-input-1-aa3fb9a4abd1>\u001B[0m in \u001B[0;36m<module>\u001B[0;34m\u001B[0m\n\u001B[0;32m----> 1\u001B[0;31m \u001B[0mlen\u001B[0m\u001B[0;34m(\u001B[0m\u001B[0mattack_ips\u001B[0m\u001B[0;34m)\u001B[0m\u001B[0;34m\u001B[0m\u001B[0m\n\u001B[0m\u001B[1;32m      2\u001B[0m \u001B[0;34m\u001B[0m\u001B[0m\n",
      "\u001B[0;31mNameError\u001B[0m: name 'attack_ips' is not defined"
     ]
    }
   ],
   "source": [
    "len(attack_ips)"
   ]
  },
  {
   "cell_type": "code",
   "execution_count": 0,
   "metadata": {},
   "outputs": [],
   "source": []
  },
  {
   "cell_type": "code",
   "execution_count": 76,
   "metadata": {},
   "outputs": [],
   "source": []
  },
  {
   "cell_type": "code",
   "execution_count": 77,
   "metadata": {},
   "outputs": [
    {
     "data": {
      "text/plain": [
       "1298"
      ]
     },
     "execution_count": 77,
     "metadata": {},
     "output_type": "execute_result"
    }
   ],
   "source": []
  },
  {
   "cell_type": "code",
   "execution_count": null,
   "metadata": {},
   "outputs": [],
   "source": []
  },
  {
   "cell_type": "code",
   "execution_count": null,
   "metadata": {},
   "outputs": [],
   "source": []
  }
 ],
 "metadata": {
  "kernelspec": {
   "display_name": "Python 3",
   "language": "python",
   "name": "python3"
  },
  "language_info": {
   "codemirror_mode": {
    "name": "ipython",
    "version": 3
   },
   "file_extension": ".py",
   "mimetype": "text/x-python",
   "name": "python",
   "nbconvert_exporter": "python",
   "pygments_lexer": "ipython3",
   "version": "3.7.5"
  }
 },
 "nbformat": 4,
 "nbformat_minor": 4
}